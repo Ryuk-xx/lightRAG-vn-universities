{
 "cells": [
  {
   "cell_type": "code",
   "execution_count": null,
   "id": "86f164c3",
   "metadata": {},
   "outputs": [
    {
     "name": "stdout",
     "output_type": "stream",
     "text": [
      "Note: you may need to restart the kernel to use updated packages.\n"
     ]
    }
   ],
   "source": [
    "pip install -q langchain-community langchain-google-genai langchain-google-genai tavily-python"
   ]
  },
  {
   "cell_type": "code",
   "execution_count": null,
   "id": "61f5f52d",
   "metadata": {},
   "outputs": [],
   "source": [
    "from langchain_community.tools.tavily_search import TavilySearchResults\n",
    "from langchain_google_genai import ChatGoogleGenerativeAI\n",
    "import os\n",
    "import json\n",
    "from dotenv import load_dotenv\n",
    "\n",
    "load_dotenv()\n",
    "gemini_key = os.getenv(\"GOOGLE_API_KEY\")\n",
    "tavily_key = os.getenv(\"TAVILY_API_KEY\")"
   ]
  },
  {
   "cell_type": "code",
   "execution_count": 2,
   "id": "df6fad70",
   "metadata": {},
   "outputs": [],
   "source": [
    "def web_search_address(school):\n",
    "    web_search_tool = TavilySearchResults(k=1)\n",
    "    query = f\"Địa chỉ của {school}\"\n",
    "    raw_results = web_search_tool.run(query)\n",
    "        \n",
    "    return raw_results\n",
    "\n",
    "def extract_address_from_results(llm, results):\n",
    "    prompt = f\"\"\"Bạn là Chatbot trích xuất địa chỉ.\n",
    "    Nhiệm vụ của bạn là tìm tên tỉnh hoặc thành phố của Việt Nam được đề cập đầu tiên trong văn bản được cung cấp.\n",
    "    Chỉ trả về tên 1 tỉnh hoặc thành phố duy nhất mà không cần thêm bất kỳ thông tin nào khác.\n",
    "    {results}\n",
    "    \"\"\"\n",
    "    address = llm.invoke(prompt)\n",
    "    return address.content"
   ]
  },
  {
   "cell_type": "code",
   "execution_count": null,
   "id": "3a851ae2",
   "metadata": {},
   "outputs": [],
   "source": [
    "os.environ['TAVILY_API_KEY'] = tavily_key\n",
    "os.environ['GOOGLE_API_KEY'] = gemini_key\n",
    "llm = ChatGoogleGenerativeAI(model=\"gemini-1.5-flash\", temperature=0)\n",
    "\n",
    "import json\n",
    "with open('raw_documents.json', 'r', encoding='utf-8') as f:\n",
    "    document = json.load(f)"
   ]
  },
  {
   "cell_type": "code",
   "execution_count": null,
   "id": "5139b972",
   "metadata": {},
   "outputs": [],
   "source": [
    "addresses = {}\n",
    "variants = [\n",
    "    \"TP. Hồ Chí Minh\", \"TP.HCM\", \"Tp.Hồ Chí Minh\", \"TP Hồ Chí Minh\", \"Hồ Chí Minh\",\n",
    "    \"TP.Hồ Chí Minh\", \"TP. HCM\", \"TPHCM\"\n",
    "]\n",
    "\n",
    "for school, data in document.items():\n",
    "    addr = web_search_address(school)\n",
    "    raw_address = addr[0]['content']\n",
    "    address = extract_address_from_results(llm, raw_address)\n",
    "    print(f\"Địa chỉ của {school} là: {address}\")\n",
    "    if address in variants:\n",
    "        address = \"Thành phố Hồ Chí Minh\"\n",
    "    addresses[school] = address\n",
    "    \n",
    "with open('addresses.json', 'w', encoding='utf-8') as f:\n",
    "    json.dump(addresses, f, ensure_ascii=False, indent=4)"
   ]
  }
 ],
 "metadata": {
  "kernelspec": {
   "display_name": "custom_lib",
   "language": "python",
   "name": "python3"
  },
  "language_info": {
   "codemirror_mode": {
    "name": "ipython",
    "version": 3
   },
   "file_extension": ".py",
   "mimetype": "text/x-python",
   "name": "python",
   "nbconvert_exporter": "python",
   "pygments_lexer": "ipython3",
   "version": "3.12.7"
  }
 },
 "nbformat": 4,
 "nbformat_minor": 5
}
