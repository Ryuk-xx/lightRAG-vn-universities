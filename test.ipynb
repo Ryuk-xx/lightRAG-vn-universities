{
 "cells": [
  {
   "cell_type": "code",
   "execution_count": null,
   "metadata": {},
   "outputs": [],
   "source": [
    "from retrieval import process_query\n",
    "\n",
    "\n",
    "query = \"điểm các ngành của trường đại học bách khoa\"\n",
    "result = await process_query(query)\n",
    "print(result)"
   ]
  }
 ],
 "metadata": {
  "kernelspec": {
   "display_name": "custom_lib",
   "language": "python",
   "name": "python3"
  },
  "language_info": {
   "name": "python",
   "version": "3.12.7"
  }
 },
 "nbformat": 4,
 "nbformat_minor": 5
}
